{
 "cells": [
  {
   "cell_type": "markdown",
   "metadata": {},
   "source": [
    "# Make Accent Trial Pairs"
   ]
  },
  {
   "cell_type": "code",
   "execution_count": 1,
   "metadata": {},
   "outputs": [],
   "source": [
    "import pandas as pd\n",
    "import numpy as np\n",
    "from sklearn.model_selection import train_test_split"
   ]
  },
  {
   "cell_type": "markdown",
   "metadata": {},
   "source": [
    "#### Sample seed files\n",
    "sample 10% seed files in a stratified manner according to accent label"
   ]
  },
  {
   "cell_type": "code",
   "execution_count": 2,
   "metadata": {},
   "outputs": [
    {
     "name": "stdout",
     "output_type": "stream",
     "text": [
      "<class 'pandas.core.frame.DataFrame'>\n",
      "RangeIndex: 5598 entries, 0 to 5597\n",
      "Data columns (total 3 columns):\n",
      "file      5598 non-null object\n",
      "label     5598 non-null object\n",
      "label2    5598 non-null object\n",
      "dtypes: object(3)\n",
      "memory usage: 131.3+ KB\n"
     ]
    }
   ],
   "source": [
    "test_files = pd.read_csv('../aishell_2_partitions/class_test.txt', sep=\"\\t\", header=None)\n",
    "test_files.columns = [\"file\", \"label\"]\n",
    "test_files['label2'] = test_files['label']\n",
    "y = test_files.pop('label2')\n",
    "X = test_files\n",
    "X_train, X_test, y_train, y_test = train_test_split(X, y, test_size=0.9, random_state=42, stratify=y)\n",
    "seed_files = pd.concat([X_train, y_train], axis=1)\n",
    "seed_files = seed_files.reset_index(drop=True)\n",
    "seed_files.info()"
   ]
  },
  {
   "cell_type": "code",
   "execution_count": 3,
   "metadata": {},
   "outputs": [
    {
     "name": "stdout",
     "output_type": "stream",
     "text": [
      "0 ../aishell_2/data/wav/C0246/IC0246W0455.wav South\n",
      "1 ../aishell_2/data/wav/C9068/IC9068W0362.wav South\n",
      "2 ../aishell_2/data/wav/C0311/IC0311W0191.wav South\n",
      "3 ../aishell_2/data/wav/D0185/ID0185W0018.wav North\n",
      "4 ../aishell_2/data/wav/C9124/IC9124W0197.wav South\n"
     ]
    }
   ],
   "source": [
    "for index, row in seed_files.head().iterrows():\n",
    "    print(index, row[0], row[1])"
   ]
  },
  {
   "cell_type": "markdown",
   "metadata": {},
   "source": [
    "#### Generate trial pairs\n",
    "Generate k trial pairs (from test pool) for each seed file, ensure uniform distribution for label matches. Let k = 8."
   ]
  },
  {
   "cell_type": "code",
   "execution_count": 4,
   "metadata": {},
   "outputs": [],
   "source": [
    "k = 8\n",
    "with open('./aishell2_acc_test.txt', 'w') as outfile:\n",
    "    for index, seed_row in seed_files.iterrows():\n",
    "        for i in range(k):\n",
    "            label = \"none\"\n",
    "            if i % 2 == 0: # generate match pair\n",
    "                match_label = 1\n",
    "                while label != seed_row[1]:\n",
    "                    idx, row = next(test_files.sample(n=1).iterrows())\n",
    "                    label = row[1]\n",
    "                outfile.write(\"{} {} {}\\n\".format(match_label, seed_row[0], row[0]))\n",
    "            else: # generate mismatch pair\n",
    "                match_label = 0\n",
    "                while label == seed_row[1] or label == \"none\":\n",
    "                    idx, row = next(test_files.sample(n=1).iterrows())\n",
    "                    label = row[1]\n",
    "                outfile.write(\"{} {} {}\\n\".format(match_label, seed_row[0], row[0]))"
   ]
  }
 ],
 "metadata": {
  "kernelspec": {
   "display_name": "Python 3",
   "language": "python",
   "name": "python3"
  },
  "language_info": {
   "codemirror_mode": {
    "name": "ipython",
    "version": 3
   },
   "file_extension": ".py",
   "mimetype": "text/x-python",
   "name": "python",
   "nbconvert_exporter": "python",
   "pygments_lexer": "ipython3",
   "version": "3.6.0"
  }
 },
 "nbformat": 4,
 "nbformat_minor": 2
}
